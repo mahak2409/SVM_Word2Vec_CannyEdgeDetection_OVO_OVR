{
 "cells": [
  {
   "cell_type": "code",
   "execution_count": null,
   "metadata": {
    "id": "PfFWiWDQxtLL"
   },
   "outputs": [],
   "source": [
    "import scipy.io\n",
    "import pandas as pd\n",
    "import numpy as np\n",
    "from sklearn import svm\n",
    "from copy import copy\n",
    "from sklearn.svm import SVC\n",
    "import matplotlib.pyplot as plt\n"
   ]
  },
  {
   "cell_type": "code",
   "execution_count": null,
   "metadata": {},
   "outputs": [],
   "source": [
    "#mat = scipy.io.loadmat('drive/MyDrive/dataset_1.mat')\n",
    "#mat = {k:v for k, v in mat.items() if k[0] != '_'}\n",
    "#mat"
   ]
  },
  {
   "cell_type": "code",
   "execution_count": null,
   "metadata": {
    "colab": {
     "base_uri": "https://localhost:8080/"
    },
    "id": "yOPSHobOzm8_",
    "outputId": "38cbacf1-3a45-4652-e15f-7029558c7a51"
   },
   "outputs": [
    {
     "data": {
      "text/plain": [
       "{'labels': array([[1, 1, 0, ..., 0, 2, 2]]),\n",
       " 'samples': array([[-0.40292263, -2.53686382],\n",
       "        [ 0.64995013, -1.11154975],\n",
       "        [-1.80491856,  0.42360053],\n",
       "        ...,\n",
       "        [-0.75600214, -1.45586119],\n",
       "        [-1.41251325, -1.98495853],\n",
       "        [-0.86610415,  0.54620991]])}"
      ]
     },
     "execution_count": 2,
     "metadata": {},
     "output_type": "execute_result"
    }
   ],
   "source": [
    "mat = scipy.io.loadmat('dataset_1.mat')\n",
    "mat = {k:v for k, v in mat.items() if k[0] != '_'}\n",
    "mat"
   ]
  },
  {
   "cell_type": "code",
   "execution_count": null,
   "metadata": {
    "colab": {
     "base_uri": "https://localhost:8080/",
     "height": 424
    },
    "id": "y-LccErb2Aty",
    "outputId": "8565a857-adcf-4930-c7c4-9c815b438f16"
   },
   "outputs": [
    {
     "data": {
      "text/html": [
       "<div>\n",
       "<style scoped>\n",
       "    .dataframe tbody tr th:only-of-type {\n",
       "        vertical-align: middle;\n",
       "    }\n",
       "\n",
       "    .dataframe tbody tr th {\n",
       "        vertical-align: top;\n",
       "    }\n",
       "\n",
       "    .dataframe thead th {\n",
       "        text-align: right;\n",
       "    }\n",
       "</style>\n",
       "<table border=\"1\" class=\"dataframe\">\n",
       "  <thead>\n",
       "    <tr style=\"text-align: right;\">\n",
       "      <th></th>\n",
       "      <th>feature1</th>\n",
       "      <th>feature2</th>\n",
       "      <th>label</th>\n",
       "    </tr>\n",
       "  </thead>\n",
       "  <tbody>\n",
       "    <tr>\n",
       "      <th>0</th>\n",
       "      <td>-0.402923</td>\n",
       "      <td>-2.536864</td>\n",
       "      <td>1</td>\n",
       "    </tr>\n",
       "    <tr>\n",
       "      <th>1</th>\n",
       "      <td>0.649950</td>\n",
       "      <td>-1.111550</td>\n",
       "      <td>1</td>\n",
       "    </tr>\n",
       "    <tr>\n",
       "      <th>2</th>\n",
       "      <td>-1.804919</td>\n",
       "      <td>0.423601</td>\n",
       "      <td>0</td>\n",
       "    </tr>\n",
       "    <tr>\n",
       "      <th>3</th>\n",
       "      <td>-1.876260</td>\n",
       "      <td>-0.375801</td>\n",
       "      <td>2</td>\n",
       "    </tr>\n",
       "    <tr>\n",
       "      <th>4</th>\n",
       "      <td>-0.879205</td>\n",
       "      <td>0.064968</td>\n",
       "      <td>0</td>\n",
       "    </tr>\n",
       "    <tr>\n",
       "      <th>...</th>\n",
       "      <td>...</td>\n",
       "      <td>...</td>\n",
       "      <td>...</td>\n",
       "    </tr>\n",
       "    <tr>\n",
       "      <th>9995</th>\n",
       "      <td>-1.035924</td>\n",
       "      <td>-0.082166</td>\n",
       "      <td>0</td>\n",
       "    </tr>\n",
       "    <tr>\n",
       "      <th>9996</th>\n",
       "      <td>-0.443304</td>\n",
       "      <td>0.170967</td>\n",
       "      <td>0</td>\n",
       "    </tr>\n",
       "    <tr>\n",
       "      <th>9997</th>\n",
       "      <td>-0.756002</td>\n",
       "      <td>-1.455861</td>\n",
       "      <td>0</td>\n",
       "    </tr>\n",
       "    <tr>\n",
       "      <th>9998</th>\n",
       "      <td>-1.412513</td>\n",
       "      <td>-1.984959</td>\n",
       "      <td>2</td>\n",
       "    </tr>\n",
       "    <tr>\n",
       "      <th>9999</th>\n",
       "      <td>-0.866104</td>\n",
       "      <td>0.546210</td>\n",
       "      <td>2</td>\n",
       "    </tr>\n",
       "  </tbody>\n",
       "</table>\n",
       "<p>10000 rows × 3 columns</p>\n",
       "</div>"
      ],
      "text/plain": [
       "      feature1  feature2  label\n",
       "0    -0.402923 -2.536864      1\n",
       "1     0.649950 -1.111550      1\n",
       "2    -1.804919  0.423601      0\n",
       "3    -1.876260 -0.375801      2\n",
       "4    -0.879205  0.064968      0\n",
       "...        ...       ...    ...\n",
       "9995 -1.035924 -0.082166      0\n",
       "9996 -0.443304  0.170967      0\n",
       "9997 -0.756002 -1.455861      0\n",
       "9998 -1.412513 -1.984959      2\n",
       "9999 -0.866104  0.546210      2\n",
       "\n",
       "[10000 rows x 3 columns]"
      ]
     },
     "execution_count": 3,
     "metadata": {},
     "output_type": "execute_result"
    }
   ],
   "source": [
    "data = pd.DataFrame() \n",
    "data['feature1'] = mat['samples'][:, 0]\n",
    "data['feature2'] = mat['samples'][:, 1]\n",
    "data['label'] = mat['labels'][0]\n",
    "data\n"
   ]
  },
  {
   "cell_type": "code",
   "execution_count": null,
   "metadata": {
    "colab": {
     "base_uri": "https://localhost:8080/"
    },
    "id": "DX27TQMpkywL",
    "outputId": "7cd53d44-a9c5-4222-9935-5c49e6cdb7a7"
   },
   "outputs": [
    {
     "data": {
      "text/plain": [
       "0    3341\n",
       "1    3332\n",
       "2    3327\n",
       "Name: label, dtype: int64"
      ]
     },
     "execution_count": 4,
     "metadata": {},
     "output_type": "execute_result"
    }
   ],
   "source": [
    "data.label.value_counts()"
   ]
  },
  {
   "cell_type": "code",
   "execution_count": null,
   "metadata": {
    "id": "QC9wvxrBQyKY"
   },
   "outputs": [],
   "source": [
    "x_0_class = data[data['label']==0]\n",
    "x_1_class = data[data['label']==1]\n",
    "x_2_class = data[data['label']==2]"
   ]
  },
  {
   "cell_type": "code",
   "execution_count": null,
   "metadata": {
    "colab": {
     "base_uri": "https://localhost:8080/",
     "height": 625
    },
    "id": "ochm8VBSP1d7",
    "outputId": "472f98e9-a434-477b-eaa3-77f1dc186d26"
   },
   "outputs": [
    {
     "data": {
      "text/plain": [
       "<matplotlib.legend.Legend at 0x7fa9aa8b7bd0>"
      ]
     },
     "execution_count": 13,
     "metadata": {},
     "output_type": "execute_result"
    },
    {
     "data": {
      "image/png": "[encoded data removed]",
      "text/plain": [
       "<Figure size 720x720 with 1 Axes>"
      ]
     },
     "metadata": {
      "needs_background": "light"
     },
     "output_type": "display_data"
    }
   ],
   "source": [
    "plt.figure(figsize=(10,10))\n",
    "plt.scatter(x_0_class.feature1,x_0_class.feature2,label='0 class ',color='red')\n",
    "plt.scatter(x_1_class.feature1,x_1_class.feature2,label='1 class ',color='green')\n",
    "plt.scatter(x_2_class.feature1,x_2_class.feature2,label='2 class ',color='purple')\n",
    "\n",
    "plt.xlabel('Feature1')\n",
    "plt.ylabel('Feature2')\n",
    "plt.legend()"
   ]
  },
  {
   "cell_type": "code",
   "execution_count": null,
   "metadata": {
    "colab": {
     "base_uri": "https://localhost:8080/"
    },
    "id": "nhtELDfuWhTw",
    "outputId": "6f69969f-65d6-407a-e21f-22634d655b29"
   },
   "outputs": [
    {
     "name": "stdout",
     "output_type": "stream",
     "text": [
      "<class 'pandas.core.frame.DataFrame'>\n",
      "RangeIndex: 10000 entries, 0 to 9999\n",
      "Data columns (total 3 columns):\n",
      " #   Column    Non-Null Count  Dtype  \n",
      "---  ------    --------------  -----  \n",
      " 0   feature1  10000 non-null  float64\n",
      " 1   feature2  10000 non-null  float64\n",
      " 2   label     10000 non-null  int64  \n",
      "dtypes: float64(2), int64(1)\n",
      "memory usage: 234.5 KB\n"
     ]
    }
   ],
   "source": [
    "#Analyzing the df info\n",
    "data.info()"
   ]
  },
  {
   "cell_type": "code",
   "execution_count": null,
   "metadata": {
    "colab": {
     "base_uri": "https://localhost:8080/"
    },
    "id": "VB2CO3BjWaAh",
    "outputId": "7cb2ae87-c7ab-4389-bb69-eb427da169aa"
   },
   "outputs": [
    {
     "data": {
      "text/plain": [
       "feature1    0\n",
       "feature2    0\n",
       "label       0\n",
       "dtype: int64"
      ]
     },
     "execution_count": 138,
     "metadata": {},
     "output_type": "execute_result"
    }
   ],
   "source": [
    "#Checking if there is any null value present in any feature and target\n",
    "data.isnull().sum()"
   ]
  },
  {
   "cell_type": "code",
   "execution_count": null,
   "metadata": {
    "colab": {
     "base_uri": "https://localhost:8080/"
    },
    "id": "KZcqA6QEU0fr",
    "outputId": "594e6b42-c29e-4d72-f785-86cc345de17c"
   },
   "outputs": [
    {
     "data": {
      "text/plain": [
       "feature1    0\n",
       "feature2    0\n",
       "label       0\n",
       "dtype: int64"
      ]
     },
     "execution_count": 128,
     "metadata": {},
     "output_type": "execute_result"
    }
   ],
   "source": [
    "#Checking if there is any nan value present in any feature and target\n",
    "data.isna().sum()"
   ]
  },
  {
   "cell_type": "code",
   "execution_count": null,
   "metadata": {
    "colab": {
     "base_uri": "https://localhost:8080/",
     "height": 300
    },
    "id": "E0Rx1RREUght",
    "outputId": "e45917c0-5a5f-4099-96db-89cde11f31a0"
   },
   "outputs": [
    {
     "data": {
      "text/html": [
       "<div>\n",
       "<style scoped>\n",
       "    .dataframe tbody tr th:only-of-type {\n",
       "        vertical-align: middle;\n",
       "    }\n",
       "\n",
       "    .dataframe tbody tr th {\n",
       "        vertical-align: top;\n",
       "    }\n",
       "\n",
       "    .dataframe thead th {\n",
       "        text-align: right;\n",
       "    }\n",
       "</style>\n",
       "<table border=\"1\" class=\"dataframe\">\n",
       "  <thead>\n",
       "    <tr style=\"text-align: right;\">\n",
       "      <th></th>\n",
       "      <th>feature1</th>\n",
       "      <th>feature2</th>\n",
       "      <th>label</th>\n",
       "    </tr>\n",
       "  </thead>\n",
       "  <tbody>\n",
       "    <tr>\n",
       "      <th>count</th>\n",
       "      <td>10000.000000</td>\n",
       "      <td>10000.000000</td>\n",
       "      <td>10000.000000</td>\n",
       "    </tr>\n",
       "    <tr>\n",
       "      <th>mean</th>\n",
       "      <td>-1646.361257</td>\n",
       "      <td>-1741.602051</td>\n",
       "      <td>5003.431800</td>\n",
       "    </tr>\n",
       "    <tr>\n",
       "      <th>std</th>\n",
       "      <td>954.045444</td>\n",
       "      <td>997.686086</td>\n",
       "      <td>2888.629053</td>\n",
       "    </tr>\n",
       "    <tr>\n",
       "      <th>min</th>\n",
       "      <td>-3318.940355</td>\n",
       "      <td>-3448.540498</td>\n",
       "      <td>1.000000</td>\n",
       "    </tr>\n",
       "    <tr>\n",
       "      <th>25%</th>\n",
       "      <td>-2444.825021</td>\n",
       "      <td>-2604.657711</td>\n",
       "      <td>2486.000000</td>\n",
       "    </tr>\n",
       "    <tr>\n",
       "      <th>50%</th>\n",
       "      <td>-1649.280309</td>\n",
       "      <td>-1761.008233</td>\n",
       "      <td>5013.000000</td>\n",
       "    </tr>\n",
       "    <tr>\n",
       "      <th>75%</th>\n",
       "      <td>-814.452303</td>\n",
       "      <td>-855.425749</td>\n",
       "      <td>7525.250000</td>\n",
       "    </tr>\n",
       "    <tr>\n",
       "      <th>max</th>\n",
       "      <td>0.247028</td>\n",
       "      <td>-2.536864</td>\n",
       "      <td>9986.000000</td>\n",
       "    </tr>\n",
       "  </tbody>\n",
       "</table>\n",
       "</div>"
      ],
      "text/plain": [
       "           feature1      feature2         label\n",
       "count  10000.000000  10000.000000  10000.000000\n",
       "mean   -1646.361257  -1741.602051   5003.431800\n",
       "std      954.045444    997.686086   2888.629053\n",
       "min    -3318.940355  -3448.540498      1.000000\n",
       "25%    -2444.825021  -2604.657711   2486.000000\n",
       "50%    -1649.280309  -1761.008233   5013.000000\n",
       "75%     -814.452303   -855.425749   7525.250000\n",
       "max        0.247028     -2.536864   9986.000000"
      ]
     },
     "execution_count": 127,
     "metadata": {},
     "output_type": "execute_result"
    }
   ],
   "source": [
    "data.describe()"
   ]
  },
  {
   "cell_type": "code",
   "execution_count": null,
   "metadata": {
    "id": "aqnp2Mx64Fi8"
   },
   "outputs": [],
   "source": [
    "#Function to give n-folds data\n",
    "def split_n_folds(df,n):\n",
    "  splitDataframe=[]\n",
    "  split = int(np.ceil(df.shape[0]/n))\n",
    "  for x in np.arange(0,df.shape[0],split):\n",
    "    a=x+split\n",
    "    splitDataframe.append(df[x:a])\n",
    "  return splitDataframe"
   ]
  },
  {
   "cell_type": "code",
   "execution_count": null,
   "metadata": {
    "colab": {
     "base_uri": "https://localhost:8080/"
    },
    "id": "Kpu9b02g-DOQ",
    "outputId": "cde724db-0e90-4026-a012-8d6760114e06"
   },
   "outputs": [
    {
     "data": {
      "text/plain": [
       "[      feature1  feature2  label\n",
       " 0    -0.402923 -2.536864      1\n",
       " 1     0.649950 -1.111550      1\n",
       " 2    -1.804919  0.423601      0\n",
       " 3    -1.876260 -0.375801      2\n",
       " 4    -0.879205  0.064968      0\n",
       " ...        ...       ...    ...\n",
       " 1995  1.216768 -0.705500      1\n",
       " 1996  1.316592 -0.993472      1\n",
       " 1997 -0.037602  0.904940      0\n",
       " 1998 -1.399660  0.946491      0\n",
       " 1999 -1.726961 -0.298559      2\n",
       " \n",
       " [2000 rows x 3 columns],       feature1  feature2  label\n",
       " 2000 -1.274221  1.979995      1\n",
       " 2001 -0.460445 -3.801838      1\n",
       " 2002 -1.383749 -1.103239      2\n",
       " 2003 -0.458850 -0.748278      2\n",
       " 2004  0.085378 -1.739584      1\n",
       " ...        ...       ...    ...\n",
       " 3995 -1.672691  1.720397      0\n",
       " 3996 -0.590211  1.165891      0\n",
       " 3997 -1.158306 -0.889228      0\n",
       " 3998 -1.194689 -1.234323      2\n",
       " 3999 -0.311622 -1.092539      2\n",
       " \n",
       " [2000 rows x 3 columns],       feature1  feature2  label\n",
       " 4000 -1.459010 -1.319820      2\n",
       " 4001 -0.752223  0.589683      2\n",
       " 4002  1.576157  0.021604      1\n",
       " 4003 -0.452352 -0.151636      2\n",
       " 4004 -0.721192 -1.064038      2\n",
       " ...        ...       ...    ...\n",
       " 5995  1.169391 -1.101545      1\n",
       " 5996  1.533071 -1.327931      1\n",
       " 5997  1.169120 -0.081503      1\n",
       " 5998 -1.677697 -1.002343      2\n",
       " 5999 -1.102835 -0.479746      2\n",
       " \n",
       " [2000 rows x 3 columns],       feature1  feature2  label\n",
       " 6000 -1.364674  2.539441      0\n",
       " 6001 -2.233382  0.490306      0\n",
       " 6002 -1.003062 -2.051430      2\n",
       " 6003 -0.660933 -1.224979      2\n",
       " 6004 -0.525841 -2.407684      2\n",
       " ...        ...       ...    ...\n",
       " 7995 -0.937474  0.505235      0\n",
       " 7996 -1.538280 -1.952457      2\n",
       " 7997 -1.998115  2.516766      0\n",
       " 7998 -1.363851  1.769527      0\n",
       " 7999  0.979725 -0.904520      1\n",
       " \n",
       " [2000 rows x 3 columns],       feature1  feature2  label\n",
       " 8000 -1.396420 -0.428859      2\n",
       " 8001 -1.792915 -0.238300      2\n",
       " 8002  1.546739  0.856043      1\n",
       " 8003  0.301045 -1.615057      1\n",
       " 8004 -0.401927  0.010302      0\n",
       " ...        ...       ...    ...\n",
       " 9995 -1.035924 -0.082166      0\n",
       " 9996 -0.443304  0.170967      0\n",
       " 9997 -0.756002 -1.455861      0\n",
       " 9998 -1.412513 -1.984959      2\n",
       " 9999 -0.866104  0.546210      2\n",
       " \n",
       " [2000 rows x 3 columns]]"
      ]
     },
     "execution_count": 6,
     "metadata": {},
     "output_type": "execute_result"
    }
   ],
   "source": [
    "#Calling split_n_folds function to get the 5 folds of data\n",
    "data_list = split_n_folds(data,5)\n",
    "data_list"
   ]
  },
  {
   "cell_type": "code",
   "execution_count": null,
   "metadata": {
    "id": "1xF7dD0R-Hjy"
   },
   "outputs": [],
   "source": [
    "class SVM():\n",
    "    \n",
    "    def __init__(self,multiclassification_type='ovr',C_param = 0):\n",
    "      self.multiclassification_type = multiclassification_type\n",
    "      self.C_param = C_param\n",
    "      #List to store the coefficients\n",
    "      self.models = []\n",
    "      #Dictionary ovo_index to store which two classes are being compared in one vs one\n",
    "      self.ovo_index = {}\n",
    "      \n",
    "    #Function gives us accuracy \n",
    "    def accuracy(self,expected, predicted):\n",
    "      correct_predictions = expected == predicted\n",
    "      sum_correct_predictions = correct_predictions.sum()\n",
    "      accuracy = sum_correct_predictions/expected.shape[0]\n",
    "      return accuracy\n",
    "    \n",
    "    def fit(self,X,y):\n",
    "      #If unique values in target are 2 then it is a binary classification problem\n",
    "      if len(np.unique(y))==2:\n",
    "        #BinaryClass\n",
    "        return self.fit_binary(X,y,test_X,test_y)\n",
    "      #else the problem is of multiclass type\n",
    "      else:\n",
    "        classes = np.unique(y)\n",
    "        if self.multiclassification_type == 'ovr':\n",
    "        #For loop to get one vs rest \n",
    "          for c in classes:\n",
    "            #Making value as 1 in class_labels when class is c in y and for rest it is 0\n",
    "            class_labels = (y == c).astype(int)\n",
    "            self.fit_binary(X,class_labels)\n",
    "        else:\n",
    "            i=0\n",
    "            #For loop to do one vs one i.e c1 vs c2\n",
    "            for c1 in classes:\n",
    "              for c2 in classes:\n",
    "                if c1 >= c2 :\n",
    "                  continue\n",
    "                c1_label = y[y == c1]\n",
    "                c1_data = X[y==c1]\n",
    "                c2_label = y[y==c2]\n",
    "                c2_data = X[y==c2]\n",
    "\n",
    "                #c1 class is given label as 0\n",
    "                c1_label_0 = c1_label-c1\n",
    "\n",
    "                #c2 class is given label as 1\n",
    "                c2_label_1 = c2_label-(c2-1)\n",
    "\n",
    "                #c1_label and c2_label are concatenated in labels_contatenate\n",
    "                labels_concatenate = np.concatenate([c1_label_0,c2_label_1])\n",
    "\n",
    "                #data of c1 and c2 is concatenated in data_concatenate\n",
    "                data_concatenate = np.concatenate([c1_data,c2_data])\n",
    "\n",
    "                #fit_binary is called after converting problem into binary classification again\n",
    "                self.fit_binary(data_concatenate,labels_concatenate)\n",
    "\n",
    "                #ovo_index dictionary is used to keep track at which index of coefficients list two classes are compared\n",
    "                self.ovo_index[i]=[c1,c2]\n",
    "                i = i+1\n",
    "\n",
    "    def fit_binary(self,X,y):\n",
    "      rbf_svm = svm.SVC(kernel='rbf',C=C_param)\n",
    "      rbf_svm.fit(X,y)\n",
    "      self.models.append(rbf_svm) \n",
    "\n",
    "\n",
    "    def predict(self,X_test):\n",
    "\n",
    "      if len(self.models) == 1:\n",
    "        y_predicted = (np.sign(self.models[0].decision_function(X_test)) == 1).astype(int)\n",
    "\n",
    "      elif self.multiclassification_type == 'ovr':\n",
    "        scores_classes=[]\n",
    "        for c in range(len(self.models)):\n",
    "          scores_classes.append(self.models[c].decision_function(X_test))\n",
    "        scores_classes = np.array(scores_classes)\n",
    "        y_predicted = np.argmax(scores_classes,axis=0)\n",
    "\n",
    "      else:\n",
    "        #list will sores for each class vs each other class\n",
    "        scores_classes = []\n",
    "\n",
    "        #for loop to calculate each class vs each class score list\n",
    "        for c in range(len(self.models)):\n",
    "          scores_classes.append((np.sign(self.models[c].decision_function(X_test)) == 1).astype(int))\n",
    "\n",
    "        #Score list converted to numpy array\n",
    "        scores_classes = np.array(scores_classes)\n",
    "\n",
    "        #score class will have class value instead of scores\n",
    "        predictions_classes = copy(scores_classes)\n",
    "        for c in range(len(self.ovo_index.keys())):\n",
    "          # scores_classes[c] = np.round(scores_classes[c])\n",
    "          predictions_classes[c][scores_classes[c]==0] = self.ovo_index[c][0]\n",
    "          predictions_classes[c][scores_classes[c]==1] = self.ovo_index[c][1]\n",
    "\n",
    "        predictions_classes = predictions_classes.T\n",
    "        predictions_classes = predictions_classes.astype(int)\n",
    "\n",
    "        #list of y_predicted\n",
    "        y_predicted = []\n",
    "\n",
    "        #For an instance all class polling value which wins will be given as predicted value\n",
    "        for c in range(X_test.shape[0]):\n",
    "          y_predicted.append(np.argmax(np.bincount(predictions_classes[c])))\n",
    "\n",
    "        #Again list to converted in numpy array\n",
    "        y_predicted = np.array(y_predicted)\n",
    "      \n",
    "      return y_predicted\n"
   ]
  },
  {
   "cell_type": "code",
   "execution_count": null,
   "metadata": {
    "colab": {
     "base_uri": "https://localhost:8080/"
    },
    "id": "yRX_eGqnpekP",
    "outputId": "b5396644-732f-4709-ebe7-fb2dd04b0adb"
   },
   "outputs": [
    {
     "name": "stdout",
     "output_type": "stream",
     "text": [
      "Accuracy for C value  1\n",
      "0.8765\n",
      "Accuracy for C value  11\n",
      "0.876875\n",
      "Accuracy for C value  21\n",
      "0.877375\n",
      "Accuracy for C value  31\n",
      "0.878\n",
      "Accuracy for C value  41\n",
      "0.878\n",
      "Accuracy for C value  51\n",
      "0.877875\n",
      "Accuracy for C value  61\n",
      "0.87775\n",
      "Accuracy for C value  71\n",
      "0.87775\n",
      "Accuracy for C value  81\n",
      "0.877875\n",
      "Accuracy for C value  91\n",
      "0.877875\n"
     ]
    }
   ],
   "source": [
    "#GridSearch ovr\n",
    "for C_param in range(1,100,10):\n",
    "  rbf_model = SVM()\n",
    "\n",
    "  #Making copy of data \n",
    "  data = copy(data_list)\n",
    "\n",
    "  test = data.pop()\n",
    "  train = pd.concat(data)\n",
    "  train_X = train[['feature1','feature2']]\n",
    "  train_y = train['label']\n",
    "  test_X = test[['feature1','feature2']]\n",
    "  test_y = test['label']\n",
    "  rbf_model.fit(train_X,train_y)\n",
    "  trainy_predicted = rbf_model.predict(train_X)\n",
    "  print(\"Accuracy for C value \",C_param)\n",
    "  print(rbf_model.accuracy(train_y,trainy_predicted))"
   ]
  },
  {
   "cell_type": "code",
   "execution_count": null,
   "metadata": {
    "colab": {
     "base_uri": "https://localhost:8080/"
    },
    "id": "24gbJHSMB0Ih",
    "outputId": "71699ef5-0e1d-48d5-b1b1-7cfaa5f22094"
   },
   "outputs": [
    {
     "name": "stdout",
     "output_type": "stream",
     "text": [
      "Fold 1\n",
      "{0: 0.8586466165413534, 1: 0.9555555555555556, 2: 0.8348484848484848}\n",
      "Fold 2\n",
      "{0: 0.8620689655172413, 1: 0.9496183206106871, 2: 0.803834808259587}\n",
      "Fold 3\n",
      "{0: 0.8618012422360248, 1: 0.9568452380952381, 2: 0.8114035087719298}\n",
      "Fold 4\n",
      "{0: 0.8602620087336245, 1: 0.952887537993921, 2: 0.8076335877862595}\n",
      "Fold 5\n",
      "{0: 0.8539823008849557, 1: 0.9508928571428571, 2: 0.8061538461538461}\n",
      "classwise accuracy folds sum\n",
      "{0: 4.2967611339132, 1: 4.765799509398259, 2: 4.063874235820107}\n",
      "Train Accuracy on 5-folds\n",
      "[0.873375, 0.877, 0.875875, 0.87725, 0.877875]\n",
      "Test Accuracy on 5-folds\n",
      "[0.8835, 0.871, 0.8765, 0.8735, 0.871]\n"
     ]
    }
   ],
   "source": [
    "#List to store accuracy foldwise for training and validation set\n",
    "n_fold_train_accuracy = []\n",
    "n_fold_test_accuracy = []\n",
    "classwise_accuracy_mean = {0:0,1:0,2:0}\n",
    "i=1\n",
    "\n",
    "#Loop to implement functions of SVM class on each 5-folds\n",
    "for x in range(len(data_list)):\n",
    "  #print(i)\n",
    "  rbf_model = SVM(C_param=41)\n",
    "\n",
    "  #Making copy of data \n",
    "  data = copy(data_list)\n",
    "\n",
    "  #Splitting the data in training and validation set. These sets would be different for every fold\n",
    "  test = data.pop(x)\n",
    "  train = pd.concat(data)\n",
    "  train_X = train[['feature1','feature2']]\n",
    "  train_y = train['label']\n",
    "  test_X = test[['feature1','feature2']]\n",
    "  test_y = test['label']\n",
    "\n",
    "  rbf_model.fit(train_X,train_y)\n",
    "\n",
    "  trainy_predicted = rbf_model.predict(train_X)\n",
    "  testy_predicted = rbf_model.predict(test_X)\n",
    "\n",
    "  n_fold_train_accuracy.append(rbf_model.accuracy(train_y,trainy_predicted))\n",
    "  n_fold_test_accuracy.append(rbf_model.accuracy(test_y,testy_predicted))\n",
    "\n",
    "  #Taking unique values from the label\n",
    "  classes = np.unique(test_y)\n",
    "  \n",
    "  #List which will store classwise accuracy of the current fold\n",
    "  classwise_accuracy = {}\n",
    "  accuracy_list = []\n",
    "  for c in classes:\n",
    "    test_label_c = test_y[test_y==c]\n",
    "    predicted_label_c = testy_predicted[test_y==c] == c\n",
    "    class_accuracy = predicted_label_c.sum()/test_label_c.shape[0]\n",
    "    classwise_accuracy[c] = class_accuracy\n",
    "    accuracy_list.append(class_accuracy)\n",
    "  \n",
    "  for x in accuracy_list:\n",
    "    #print(accuracy_list.index(x))\n",
    "    classwise_accuracy_mean[accuracy_list.index(x)] = x + classwise_accuracy_mean[accuracy_list.index(x)]\n",
    "\n",
    "  #print(classwise_accuracy_mean)\n",
    "\n",
    "\n",
    "  #Printing the current fold  \n",
    "  print(\"Fold\",i)\n",
    "\n",
    "  #Pritning classwise accuracy of current fold\n",
    "  print(classwise_accuracy)\n",
    "  i = i+1\n",
    "\n",
    "print(\"classwise accuracy folds sum\")\n",
    "print(classwise_accuracy_mean)\n",
    "print(\"Train Accuracy on 5-folds\")\n",
    "print(n_fold_train_accuracy)\n",
    "print(\"Test Accuracy on 5-folds\")\n",
    "print(n_fold_test_accuracy)\n",
    "  #break;"
   ]
  },
  {
   "cell_type": "code",
   "execution_count": null,
   "metadata": {
    "colab": {
     "base_uri": "https://localhost:8080/"
    },
    "id": "H0b7azAtwJt9",
    "outputId": "2f243640-e4c8-4df2-87ff-1d9b6de7fe40"
   },
   "outputs": [
    {
     "name": "stdout",
     "output_type": "stream",
     "text": [
      "Training mean 0.876275 validation mean 0.8751\n"
     ]
    }
   ],
   "source": [
    "#Calculating  mean of training  accuracy values\n",
    "training_mean = sum(n_fold_train_accuracy)/len(n_fold_train_accuracy)\n",
    "\n",
    "#Calculating mean of validation accuracy values\n",
    "validation_mean = sum(n_fold_test_accuracy)/len(n_fold_test_accuracy)\n",
    "\n",
    "#Printing the mean value of training and validation \n",
    "print('Training mean',training_mean,'validation mean',validation_mean)"
   ]
  },
  {
   "cell_type": "code",
   "execution_count": null,
   "metadata": {
    "colab": {
     "base_uri": "https://localhost:8080/"
    },
    "id": "nuGEaPdLy-2M",
    "outputId": "a1cb4e1e-fa56-4ed4-f4a7-b2bf80979146"
   },
   "outputs": [
    {
     "name": "stdout",
     "output_type": "stream",
     "text": [
      "Mean Classwise Accuracy\n",
      "{0: 0.8593522267826399, 1: 0.9531599018796518, 2: 0.8127748471640214}\n"
     ]
    }
   ],
   "source": [
    "#Mean of classvise accuracy\n",
    "for i in [0,1,2]:\n",
    "  classwise_accuracy_mean[i] = classwise_accuracy_mean[i]/5\n",
    "\n",
    "print(\"Mean Classwise Accuracy\")\n",
    "print(classwise_accuracy_mean)"
   ]
  },
  {
   "cell_type": "markdown",
   "metadata": {
    "id": "DE9N-Y2rJstt"
   },
   "source": [
    "OVO"
   ]
  },
  {
   "cell_type": "code",
   "execution_count": null,
   "metadata": {
    "colab": {
     "base_uri": "https://localhost:8080/"
    },
    "id": "KM9zryKRJuDp",
    "outputId": "da94a8f1-b37f-4fb1-c2c7-4a395bf1ab39"
   },
   "outputs": [
    {
     "name": "stdout",
     "output_type": "stream",
     "text": [
      "Accuracy for C value  1\n",
      "0.877875\n",
      "Accuracy for C value  11\n",
      "0.8775\n",
      "Accuracy for C value  21\n",
      "0.8775\n",
      "Accuracy for C value  31\n",
      "0.877375\n",
      "Accuracy for C value  41\n",
      "0.87725\n",
      "Accuracy for C value  51\n",
      "0.877\n",
      "Accuracy for C value  61\n",
      "0.87725\n",
      "Accuracy for C value  71\n",
      "0.877125\n",
      "Accuracy for C value  81\n",
      "0.877125\n",
      "Accuracy for C value  91\n",
      "0.877\n"
     ]
    }
   ],
   "source": [
    "#GridSearch\n",
    "for C_param in range(1,100,10):\n",
    "  rbf_model = SVM(multiclassification_type='ovo')\n",
    "\n",
    "  #Making copy of data \n",
    "  data = copy(data_list)\n",
    "\n",
    "  test = data.pop()\n",
    "  train = pd.concat(data)\n",
    "  train_X = train[['feature1','feature2']]\n",
    "  train_y = train['label']\n",
    "  test_X = test[['feature1','feature2']]\n",
    "  test_y = test['label']\n",
    "  rbf_model.fit(train_X,train_y)\n",
    "  trainy_predicted = rbf_model.predict(train_X)\n",
    "  print(\"Accuracy for C value \",C_param)\n",
    "  print(rbf_model.accuracy(train_y,trainy_predicted))"
   ]
  },
  {
   "cell_type": "code",
   "execution_count": null,
   "metadata": {
    "colab": {
     "base_uri": "https://localhost:8080/"
    },
    "id": "L9XMITAfIAPX",
    "outputId": "4a36a90b-b378-42ca-d0d9-4ac2aec63759"
   },
   "outputs": [
    {
     "name": "stdout",
     "output_type": "stream",
     "text": [
      "Fold 1\n",
      "{0: 0.8646616541353384, 1: 0.9585185185185185, 2: 0.8363636363636363}\n",
      "Fold 2\n",
      "{0: 0.863568215892054, 1: 0.9496183206106871, 2: 0.803834808259587}\n",
      "Fold 3\n",
      "{0: 0.8695652173913043, 1: 0.9568452380952381, 2: 0.8099415204678363}\n",
      "Fold 4\n",
      "{0: 0.858806404657933, 1: 0.9513677811550152, 2: 0.8061068702290076}\n",
      "Fold 5\n",
      "{0: 0.8584070796460177, 1: 0.9494047619047619, 2: 0.8046153846153846}\n",
      "classwise accuracy folds sum\n",
      "{0: 4.315008571722648, 1: 4.765754620284221, 2: 4.060862219935452}\n",
      "Train Accuracy on 5-folds\n",
      "[0.873, 0.87675, 0.8755, 0.87875, 0.877]\n",
      "Test Accuracy on 5-folds\n",
      "[0.887, 0.8715, 0.8785, 0.872, 0.8715]\n"
     ]
    }
   ],
   "source": [
    "#List to store accuracy foldwise for training and validation set\n",
    "n_fold_train_accuracy = []\n",
    "n_fold_test_accuracy = []\n",
    "classwise_accuracy_mean = {0:0,1:0,2:0}\n",
    "i=1\n",
    "\n",
    "#Loop to implement functions of SVM class on each 5-folds\n",
    "for x in range(len(data_list)):\n",
    "  #print(i)\n",
    "  rbf_model = SVM(C_param=21,multiclassification_type='ovo')\n",
    "\n",
    "  #Making copy of data \n",
    "  data = copy(data_list)\n",
    "\n",
    "  #Splitting the data in training and validation set. These sets would be different for every fold\n",
    "  test = data.pop(x)\n",
    "  train = pd.concat(data)\n",
    "  train_X = train[['feature1','feature2']]\n",
    "  train_y = train['label']\n",
    "  test_X = test[['feature1','feature2']]\n",
    "  test_y = test['label']\n",
    "\n",
    "  rbf_model.fit(train_X,train_y)\n",
    "\n",
    "  trainy_predicted = rbf_model.predict(train_X)\n",
    "  testy_predicted = rbf_model.predict(test_X)\n",
    "\n",
    "  n_fold_train_accuracy.append(rbf_model.accuracy(train_y,trainy_predicted))\n",
    "  n_fold_test_accuracy.append(rbf_model.accuracy(test_y,testy_predicted))\n",
    "\n",
    "  #Taking unique values from the label\n",
    "  classes = np.unique(test_y)\n",
    "  \n",
    "  #List which will store classwise accuracy of the current fold\n",
    "  classwise_accuracy = {}\n",
    "  accuracy_list = []\n",
    "  for c in classes:\n",
    "    test_label_c = test_y[test_y==c]\n",
    "    predicted_label_c = testy_predicted[test_y==c] == c\n",
    "    class_accuracy = predicted_label_c.sum()/test_label_c.shape[0]\n",
    "    classwise_accuracy[c] = class_accuracy\n",
    "    accuracy_list.append(class_accuracy)\n",
    "  \n",
    "  for x in accuracy_list:\n",
    "    #print(accuracy_list.index(x))\n",
    "    classwise_accuracy_mean[accuracy_list.index(x)] = x + classwise_accuracy_mean[accuracy_list.index(x)]\n",
    "\n",
    "  #print(classwise_accuracy_mean)\n",
    "\n",
    "\n",
    "  #Printing the current fold  \n",
    "  print(\"Fold\",i)\n",
    "\n",
    "  #Pritning classwise accuracy of current fold\n",
    "  print(classwise_accuracy)\n",
    "  i = i+1\n",
    "\n",
    "print(\"classwise accuracy folds sum\")\n",
    "print(classwise_accuracy_mean)\n",
    "print(\"Train Accuracy on 5-folds\")\n",
    "print(n_fold_train_accuracy)\n",
    "print(\"Test Accuracy on 5-folds\")\n",
    "print(n_fold_test_accuracy)\n",
    "  #break;"
   ]
  },
  {
   "cell_type": "code",
   "execution_count": null,
   "metadata": {
    "colab": {
     "base_uri": "https://localhost:8080/"
    },
    "id": "ngPdi9lnIRUt",
    "outputId": "a9425b08-04d2-4ea6-8eba-cf6efa9ac7d3"
   },
   "outputs": [
    {
     "name": "stdout",
     "output_type": "stream",
     "text": [
      "Training mean 0.8762000000000001 validation mean 0.8760999999999999\n"
     ]
    }
   ],
   "source": [
    "#Calculating  mean of training  accuracy values\n",
    "training_mean = sum(n_fold_train_accuracy)/len(n_fold_train_accuracy)\n",
    "\n",
    "#Calculating mean of validation accuracy values\n",
    "validation_mean = sum(n_fold_test_accuracy)/len(n_fold_test_accuracy)\n",
    "\n",
    "#Printing the mean value of training and validation \n",
    "print('Training mean',training_mean,'validation mean',validation_mean)"
   ]
  },
  {
   "cell_type": "code",
   "execution_count": null,
   "metadata": {
    "colab": {
     "base_uri": "https://localhost:8080/"
    },
    "id": "o2lqOLzpIYdS",
    "outputId": "766299d2-9ef7-4a63-bb71-ec49e2c20b86"
   },
   "outputs": [
    {
     "name": "stdout",
     "output_type": "stream",
     "text": [
      "Mean Classwise Accuracy\n",
      "{0: 0.8630017143445295, 1: 0.9531509240568441, 2: 0.8121724439870904}\n"
     ]
    }
   ],
   "source": [
    "#Mean of classvise accuracy\n",
    "for i in [0,1,2]:\n",
    "  classwise_accuracy_mean[i] = classwise_accuracy_mean[i]/5\n",
    "\n",
    "print(\"Mean Classwise Accuracy\")\n",
    "print(classwise_accuracy_mean)"
   ]
  },
  {
   "cell_type": "markdown",
   "metadata": {
    "id": "LpgEGUzMKgCL"
   },
   "source": [
    "SKLearn SVM"
   ]
  },
  {
   "cell_type": "markdown",
   "metadata": {
    "id": "FljLuJmfLDO4"
   },
   "source": [
    "OVR"
   ]
  },
  {
   "cell_type": "code",
   "execution_count": null,
   "metadata": {
    "colab": {
     "base_uri": "https://localhost:8080/"
    },
    "id": "xgiUS2z0LC38",
    "outputId": "d3cd2b63-1d0c-4413-d494-a8e1753a59ff"
   },
   "outputs": [
    {
     "name": "stdout",
     "output_type": "stream",
     "text": [
      "Test Accuracy on 5-folds\n",
      "[0.8865, 0.871, 0.879, 0.8725, 0.8715]\n"
     ]
    }
   ],
   "source": [
    "#List to store accuracy foldwise for training and validation set\n",
    "n_fold_test_accuracy = []\n",
    "\n",
    "#Loop to implement functions of SVM class on each 5-folds\n",
    "for x in range(len(data_list)):\n",
    "  #Making copy of data \n",
    "  data = copy(data_list)\n",
    "\n",
    "  #Splitting the data in training and validation set. These sets would be different for every fold\n",
    "  test = data.pop(x)\n",
    "  train = pd.concat(data)\n",
    "  train_X = train[['feature1','feature2']]\n",
    "  train_y = train['label']\n",
    "  test_X = test[['feature1','feature2']]\n",
    "  test_y = test['label']\n",
    "\n",
    "  rbf_svm = svm.SVC(kernel='rbf',C=41)\n",
    "  rbf_svm.fit(train_X,train_y)\n",
    "\n",
    "\n",
    "  n_fold_test_accuracy.append(rbf_svm.score(test_X,test_y))\n",
    "\n",
    "  \n",
    "print(\"Test Accuracy on 5-folds\")\n",
    "print(n_fold_test_accuracy)\n"
   ]
  },
  {
   "cell_type": "code",
   "execution_count": null,
   "metadata": {
    "colab": {
     "base_uri": "https://localhost:8080/"
    },
    "id": "KUoGNw6PKh30",
    "outputId": "060fed09-7a67-4fd7-c21d-417046f9004c"
   },
   "outputs": [
    {
     "name": "stdout",
     "output_type": "stream",
     "text": [
      "validation mean 0.8760999999999999\n"
     ]
    }
   ],
   "source": [
    "\n",
    "#Calculating mean of validation accuracy values\n",
    "validation_mean = sum(n_fold_test_accuracy)/len(n_fold_test_accuracy)\n",
    "\n",
    "#Printing the mean value of training and validation \n",
    "print('Test accuracy mean',validation_mean)"
   ]
  },
  {
   "cell_type": "markdown",
   "metadata": {
    "id": "tDv8Zyz0OHG_"
   },
   "source": [
    "OVO"
   ]
  },
  {
   "cell_type": "code",
   "execution_count": null,
   "metadata": {
    "colab": {
     "base_uri": "https://localhost:8080/"
    },
    "id": "2yvYHQcLCy7M",
    "outputId": "6922a349-7a7a-4e4d-f341-fee5ec1e3f68"
   },
   "outputs": [
    {
     "name": "stdout",
     "output_type": "stream",
     "text": [
      "Test Accuracy on 5-folds\n",
      "[0.8865, 0.871, 0.879, 0.8725, 0.8715]\n"
     ]
    }
   ],
   "source": [
    "#List to store accuracy foldwise for training and validation set\n",
    "n_fold_test_accuracy = []\n",
    "\n",
    "#Loop to implement functions of SVM class on each 5-folds\n",
    "for x in range(len(data_list)):\n",
    "  #Making copy of data \n",
    "  data = copy(data_list)\n",
    "\n",
    "  #Splitting the data in training and validation set. These sets would be different for every fold\n",
    "  test = data.pop(x)\n",
    "  train = pd.concat(data)\n",
    "  train_X = train[['feature1','feature2']]\n",
    "  train_y = train['label']\n",
    "  test_X = test[['feature1','feature2']]\n",
    "  test_y = test['label']\n",
    "\n",
    "  rbf_svm = svm.SVC(kernel='rbf',C=41,decision_function_shape='ovo')\n",
    "  rbf_svm.fit(train_X,train_y)\n",
    "\n",
    "\n",
    "  n_fold_test_accuracy.append(rbf_svm.score(test_X,test_y))\n",
    "\n",
    "  \n",
    "print(\"Test Accuracy on 5-folds\")\n",
    "print(n_fold_test_accuracy)\n"
   ]
  },
  {
   "cell_type": "code",
   "execution_count": null,
   "metadata": {
    "colab": {
     "base_uri": "https://localhost:8080/"
    },
    "id": "Q8sLnqoVOKx9",
    "outputId": "e92f1c39-0654-406d-98fa-eab2a9169516"
   },
   "outputs": [
    {
     "name": "stdout",
     "output_type": "stream",
     "text": [
      "validation mean 0.8760999999999999\n"
     ]
    }
   ],
   "source": [
    "\n",
    "#Calculating mean of validation accuracy values\n",
    "validation_mean = sum(n_fold_test_accuracy)/len(n_fold_test_accuracy)\n",
    "\n",
    "#Printing the mean value of training and validation \n",
    "print('validation mean',validation_mean)"
   ]
  },
  {
   "cell_type": "code",
   "execution_count": null,
   "metadata": {
    "id": "g7KR8rUfOPBD"
   },
   "outputs": [],
   "source": []
  }
 ],
 "metadata": {
  "colab": {
   "collapsed_sections": [],
   "name": "MLAssignment3_Q3.ipynb",
   "provenance": []
  },
  "kernelspec": {
   "display_name": "Python 3",
   "language": "python",
   "name": "python3"
  },
  "language_info": {
   "codemirror_mode": {
    "name": "ipython",
    "version": 3
   },
   "file_extension": ".py",
   "mimetype": "text/x-python",
   "name": "python",
   "nbconvert_exporter": "python",
   "pygments_lexer": "ipython3",
   "version": "3.8.5"
  }
 },
 "nbformat": 4,
 "nbformat_minor": 1
}
